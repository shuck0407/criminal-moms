{
 "cells": [
  {
   "cell_type": "code",
   "execution_count": 1,
   "metadata": {},
   "outputs": [],
   "source": [
    "#Import dependencies\n",
    "%matplotlib inline\n",
    "import matplotlib.pyplot as plt\n",
    "import pandas as pd\n",
    "import sqlite3\n",
    "import argparse\n",
    "import json\n",
    "import pprint\n",
    "import requests\n",
    "import sys\n",
    "import urllib\n",
    "import os \n",
    "from urllib.error import HTTPError\n",
    "from urllib.parse import quote\n",
    "from urllib.parse import urlencode"
   ]
  },
  {
   "cell_type": "code",
   "execution_count": 2,
   "metadata": {},
   "outputs": [],
   "source": [
    "#Assign database file to a variable\n",
    "db_file = \"../Resources/Los_Angeles/crimedata.db\"\n",
    "\n",
    "#Connect to database file\n",
    "conn = sqlite3.connect(db_file)"
   ]
  },
  {
   "cell_type": "code",
   "execution_count": 3,
   "metadata": {},
   "outputs": [
    {
     "data": {
      "text/html": [
       "<div>\n",
       "<style scoped>\n",
       "    .dataframe tbody tr th:only-of-type {\n",
       "        vertical-align: middle;\n",
       "    }\n",
       "\n",
       "    .dataframe tbody tr th {\n",
       "        vertical-align: top;\n",
       "    }\n",
       "\n",
       "    .dataframe thead th {\n",
       "        text-align: right;\n",
       "    }\n",
       "</style>\n",
       "<table border=\"1\" class=\"dataframe\">\n",
       "  <thead>\n",
       "    <tr style=\"text-align: right;\">\n",
       "      <th></th>\n",
       "      <th>AreaID</th>\n",
       "      <th>ReportingDistrict</th>\n",
       "      <th>CrimeCode</th>\n",
       "      <th>VictimAge</th>\n",
       "      <th>PremiseCode</th>\n",
       "    </tr>\n",
       "  </thead>\n",
       "  <tbody>\n",
       "    <tr>\n",
       "      <th>0</th>\n",
       "      <td>2</td>\n",
       "      <td>201</td>\n",
       "      <td>510</td>\n",
       "      <td>16.0</td>\n",
       "      <td>101.0</td>\n",
       "    </tr>\n",
       "    <tr>\n",
       "      <th>1</th>\n",
       "      <td>2</td>\n",
       "      <td>275</td>\n",
       "      <td>510</td>\n",
       "      <td>16.0</td>\n",
       "      <td>101.0</td>\n",
       "    </tr>\n",
       "    <tr>\n",
       "      <th>2</th>\n",
       "      <td>3</td>\n",
       "      <td>325</td>\n",
       "      <td>510</td>\n",
       "      <td>16.0</td>\n",
       "      <td>101.0</td>\n",
       "    </tr>\n",
       "    <tr>\n",
       "      <th>3</th>\n",
       "      <td>4</td>\n",
       "      <td>421</td>\n",
       "      <td>510</td>\n",
       "      <td>16.0</td>\n",
       "      <td>101.0</td>\n",
       "    </tr>\n",
       "    <tr>\n",
       "      <th>4</th>\n",
       "      <td>5</td>\n",
       "      <td>566</td>\n",
       "      <td>510</td>\n",
       "      <td>16.0</td>\n",
       "      <td>101.0</td>\n",
       "    </tr>\n",
       "  </tbody>\n",
       "</table>\n",
       "</div>"
      ],
      "text/plain": [
       "  AreaID ReportingDistrict CrimeCode VictimAge PremiseCode\n",
       "0      2               201       510      16.0       101.0\n",
       "1      2               275       510      16.0       101.0\n",
       "2      3               325       510      16.0       101.0\n",
       "3      4               421       510      16.0       101.0\n",
       "4      5               566       510      16.0       101.0"
      ]
     },
     "execution_count": 3,
     "metadata": {},
     "output_type": "execute_result"
    }
   ],
   "source": [
    "#Query the la crime data table and put into a pandas dataframe\n",
    "crime_df = pd.read_sql_query(\"select * from sherry_la_crime_clean_data;\", conn)\n",
    "crime_df.head()"
   ]
  },
  {
   "cell_type": "code",
   "execution_count": 4,
   "metadata": {},
   "outputs": [
    {
     "data": {
      "text/plain": [
       "AreaID               174766\n",
       "ReportingDistrict    174766\n",
       "CrimeCode            174766\n",
       "VictimAge            174766\n",
       "PremiseCode          174766\n",
       "dtype: int64"
      ]
     },
     "execution_count": 4,
     "metadata": {},
     "output_type": "execute_result"
    }
   ],
   "source": [
    "crime_df.count()"
   ]
  },
  {
   "cell_type": "code",
   "execution_count": 5,
   "metadata": {},
   "outputs": [
    {
     "data": {
      "text/plain": [
       "17.0    12516\n",
       "16.0    12093\n",
       "0.0     11503\n",
       "26.0     4411\n",
       "27.0     4323\n",
       "25.0     4271\n",
       "28.0     4179\n",
       "29.0     4131\n",
       "24.0     4063\n",
       "30.0     3966\n",
       "31.0     3960\n",
       "Name: VictimAge, dtype: int64"
      ]
     },
     "execution_count": 5,
     "metadata": {},
     "output_type": "execute_result"
    }
   ],
   "source": [
    "# Most victim age crimes are commited against\n",
    "ages = crime_df.VictimAge.value_counts()\n",
    "ages.head(11)"
   ]
  },
  {
   "cell_type": "code",
   "execution_count": 6,
   "metadata": {},
   "outputs": [
    {
     "data": {
      "text/plain": [
       "3     26280\n",
       "1     24183\n",
       "6     20940\n",
       "7     18542\n",
       "2     18192\n",
       "9     17306\n",
       "5     16300\n",
       "4     15293\n",
       "8     15290\n",
       "13      816\n",
       "Name: AreaID, dtype: int64"
      ]
     },
     "execution_count": 6,
     "metadata": {},
     "output_type": "execute_result"
    }
   ],
   "source": [
    "area_ID = crime_df.AreaID.value_counts() \n",
    "area_ID.head(10)"
   ]
  },
  {
   "cell_type": "code",
   "execution_count": 7,
   "metadata": {},
   "outputs": [
    {
     "data": {
      "text/plain": [
       "101.0    38064\n",
       "502.0    24341\n",
       "501.0    22651\n",
       "108.0    12778\n",
       "102.0    11263\n",
       "203.0     9227\n",
       "122.0     6446\n",
       "707.0     3320\n",
       "210.0     3165\n",
       "123.0     2574\n",
       "Name: PremiseCode, dtype: int64"
      ]
     },
     "execution_count": 7,
     "metadata": {},
     "output_type": "execute_result"
    }
   ],
   "source": [
    "premise_desc = crime_df.PremiseCode.value_counts() \n",
    "premise_desc.head(10)"
   ]
  },
  {
   "cell_type": "code",
   "execution_count": 8,
   "metadata": {},
   "outputs": [
    {
     "data": {
      "text/plain": [
       "624    16820\n",
       "330    14673\n",
       "440    13046\n",
       "510    11412\n",
       "310    10286\n",
       "740    10077\n",
       "626     8903\n",
       "230     8644\n",
       "210     7344\n",
       "420     6942\n",
       "Name: CrimeCode, dtype: int64"
      ]
     },
     "execution_count": 8,
     "metadata": {},
     "output_type": "execute_result"
    }
   ],
   "source": [
    "crime_code = crime_df.CrimeCode.value_counts() \n",
    "crime_code.head(10)"
   ]
  },
  {
   "cell_type": "code",
   "execution_count": 9,
   "metadata": {},
   "outputs": [
    {
     "data": {
      "text/plain": [
       "645    2735\n",
       "646    2247\n",
       "363    1898\n",
       "162    1857\n",
       "636    1672\n",
       "152    1502\n",
       "666    1497\n",
       "156    1327\n",
       "111    1316\n",
       "182    1184\n",
       "Name: ReportingDistrict, dtype: int64"
      ]
     },
     "execution_count": 9,
     "metadata": {},
     "output_type": "execute_result"
    }
   ],
   "source": [
    "report_district = crime_df.ReportingDistrict.value_counts() \n",
    "report_district.head(10)"
   ]
  },
  {
   "cell_type": "code",
   "execution_count": 10,
   "metadata": {},
   "outputs": [
    {
     "data": {
      "text/plain": [
       "AreaID               object\n",
       "ReportingDistrict    object\n",
       "CrimeCode            object\n",
       "VictimAge            object\n",
       "PremiseCode          object\n",
       "dtype: object"
      ]
     },
     "execution_count": 10,
     "metadata": {},
     "output_type": "execute_result"
    }
   ],
   "source": [
    "crime_df.dtypes"
   ]
  },
  {
   "cell_type": "code",
   "execution_count": 11,
   "metadata": {},
   "outputs": [
    {
     "data": {
      "text/plain": [
       "AreaID                 int64\n",
       "ReportingDistrict      int64\n",
       "CrimeCode              int64\n",
       "VictimAge            float64\n",
       "PremiseCode          float64\n",
       "dtype: object"
      ]
     },
     "execution_count": 11,
     "metadata": {},
     "output_type": "execute_result"
    }
   ],
   "source": [
    "#COnvert the datatype of each column to numeric for machine learning\n",
    "crime_df['AreaID'] = crime_df['AreaID'].apply(pd.to_numeric, errors='coerce')\n",
    "crime_df['CrimeCode'] = crime_df['CrimeCode'].apply(pd.to_numeric, errors='coerce')\n",
    "crime_df['ReportingDistrict'] = crime_df['ReportingDistrict'].apply(pd.to_numeric, errors='coerce')\n",
    "crime_df['VictimAge'] = crime_df['VictimAge'].apply(pd.to_numeric, errors='coerce')\n",
    "crime_df['PremiseCode'] = crime_df['PremiseCode'].apply(pd.to_numeric, errors='coerce')\n",
    "\n",
    "crime_df = crime_df.fillna(0)\n",
    "crime_df.reset_index()\n",
    "crime_df.dtypes"
   ]
  },
  {
   "cell_type": "code",
   "execution_count": 12,
   "metadata": {},
   "outputs": [
    {
     "data": {
      "text/html": [
       "<div>\n",
       "<style scoped>\n",
       "    .dataframe tbody tr th:only-of-type {\n",
       "        vertical-align: middle;\n",
       "    }\n",
       "\n",
       "    .dataframe tbody tr th {\n",
       "        vertical-align: top;\n",
       "    }\n",
       "\n",
       "    .dataframe thead th {\n",
       "        text-align: right;\n",
       "    }\n",
       "</style>\n",
       "<table border=\"1\" class=\"dataframe\">\n",
       "  <thead>\n",
       "    <tr style=\"text-align: right;\">\n",
       "      <th></th>\n",
       "      <th>AreaID</th>\n",
       "      <th>ReportingDistrict</th>\n",
       "      <th>CrimeCode</th>\n",
       "      <th>VictimAge</th>\n",
       "      <th>PremiseCode</th>\n",
       "    </tr>\n",
       "  </thead>\n",
       "  <tbody>\n",
       "    <tr>\n",
       "      <th>2</th>\n",
       "      <td>3</td>\n",
       "      <td>325</td>\n",
       "      <td>510</td>\n",
       "      <td>16.0</td>\n",
       "      <td>101.0</td>\n",
       "    </tr>\n",
       "    <tr>\n",
       "      <th>14</th>\n",
       "      <td>3</td>\n",
       "      <td>329</td>\n",
       "      <td>510</td>\n",
       "      <td>16.0</td>\n",
       "      <td>101.0</td>\n",
       "    </tr>\n",
       "    <tr>\n",
       "      <th>9078</th>\n",
       "      <td>3</td>\n",
       "      <td>357</td>\n",
       "      <td>510</td>\n",
       "      <td>16.0</td>\n",
       "      <td>101.0</td>\n",
       "    </tr>\n",
       "    <tr>\n",
       "      <th>9154</th>\n",
       "      <td>3</td>\n",
       "      <td>396</td>\n",
       "      <td>510</td>\n",
       "      <td>16.0</td>\n",
       "      <td>101.0</td>\n",
       "    </tr>\n",
       "    <tr>\n",
       "      <th>9168</th>\n",
       "      <td>3</td>\n",
       "      <td>361</td>\n",
       "      <td>510</td>\n",
       "      <td>16.0</td>\n",
       "      <td>101.0</td>\n",
       "    </tr>\n",
       "  </tbody>\n",
       "</table>\n",
       "</div>"
      ],
      "text/plain": [
       "      AreaID  ReportingDistrict  CrimeCode  VictimAge  PremiseCode\n",
       "2          3                325        510       16.0        101.0\n",
       "14         3                329        510       16.0        101.0\n",
       "9078       3                357        510       16.0        101.0\n",
       "9154       3                396        510       16.0        101.0\n",
       "9168       3                361        510       16.0        101.0"
      ]
     },
     "execution_count": 12,
     "metadata": {},
     "output_type": "execute_result"
    }
   ],
   "source": [
    "# model_small_df = crime_df.loc[crime_df['CrimeCode'].isin(['646'])]\n",
    "# 440 - 0.628928407174613\n",
    "#3     26280\n",
    "#6     20940\n",
    "#7     18542\n",
    "#2     18192\n",
    "#9     17306\n",
    "#5     16300\n",
    "#4     15293\n",
    "#8     15290\n",
    "#13      816\n",
    "model_small_df = crime_df.loc[crime_df['AreaID'].isin(['3'])]\n",
    "model_small_df.head()"
   ]
  },
  {
   "cell_type": "code",
   "execution_count": 13,
   "metadata": {},
   "outputs": [
    {
     "data": {
      "text/plain": [
       "AreaID               26280\n",
       "ReportingDistrict    26280\n",
       "CrimeCode            26280\n",
       "VictimAge            26280\n",
       "PremiseCode          26280\n",
       "dtype: int64"
      ]
     },
     "execution_count": 13,
     "metadata": {},
     "output_type": "execute_result"
    }
   ],
   "source": [
    "model_small_df.count()"
   ]
  },
  {
   "cell_type": "code",
   "execution_count": 14,
   "metadata": {},
   "outputs": [
    {
     "name": "stdout",
     "output_type": "stream",
     "text": [
      "(26280,) (26280, 4)\n"
     ]
    }
   ],
   "source": [
    "target = model_small_df[\"CrimeCode\"]\n",
    "data = model_small_df.drop(\"CrimeCode\", axis=1)\n",
    "feature_names = model_small_df.columns\n",
    "print(target.shape, data.shape)"
   ]
  },
  {
   "cell_type": "code",
   "execution_count": 15,
   "metadata": {},
   "outputs": [
    {
     "data": {
      "text/html": [
       "<div>\n",
       "<style scoped>\n",
       "    .dataframe tbody tr th:only-of-type {\n",
       "        vertical-align: middle;\n",
       "    }\n",
       "\n",
       "    .dataframe tbody tr th {\n",
       "        vertical-align: top;\n",
       "    }\n",
       "\n",
       "    .dataframe thead th {\n",
       "        text-align: right;\n",
       "    }\n",
       "</style>\n",
       "<table border=\"1\" class=\"dataframe\">\n",
       "  <thead>\n",
       "    <tr style=\"text-align: right;\">\n",
       "      <th></th>\n",
       "      <th>AreaID</th>\n",
       "      <th>ReportingDistrict</th>\n",
       "      <th>VictimAge</th>\n",
       "      <th>PremiseCode</th>\n",
       "    </tr>\n",
       "  </thead>\n",
       "  <tbody>\n",
       "    <tr>\n",
       "      <th>2</th>\n",
       "      <td>3</td>\n",
       "      <td>325</td>\n",
       "      <td>16.0</td>\n",
       "      <td>101.0</td>\n",
       "    </tr>\n",
       "    <tr>\n",
       "      <th>14</th>\n",
       "      <td>3</td>\n",
       "      <td>329</td>\n",
       "      <td>16.0</td>\n",
       "      <td>101.0</td>\n",
       "    </tr>\n",
       "    <tr>\n",
       "      <th>9078</th>\n",
       "      <td>3</td>\n",
       "      <td>357</td>\n",
       "      <td>16.0</td>\n",
       "      <td>101.0</td>\n",
       "    </tr>\n",
       "    <tr>\n",
       "      <th>9154</th>\n",
       "      <td>3</td>\n",
       "      <td>396</td>\n",
       "      <td>16.0</td>\n",
       "      <td>101.0</td>\n",
       "    </tr>\n",
       "    <tr>\n",
       "      <th>9168</th>\n",
       "      <td>3</td>\n",
       "      <td>361</td>\n",
       "      <td>16.0</td>\n",
       "      <td>101.0</td>\n",
       "    </tr>\n",
       "  </tbody>\n",
       "</table>\n",
       "</div>"
      ],
      "text/plain": [
       "      AreaID  ReportingDistrict  VictimAge  PremiseCode\n",
       "2          3                325       16.0        101.0\n",
       "14         3                329       16.0        101.0\n",
       "9078       3                357       16.0        101.0\n",
       "9154       3                396       16.0        101.0\n",
       "9168       3                361       16.0        101.0"
      ]
     },
     "execution_count": 15,
     "metadata": {},
     "output_type": "execute_result"
    }
   ],
   "source": [
    "data.head()"
   ]
  },
  {
   "cell_type": "code",
   "execution_count": 16,
   "metadata": {},
   "outputs": [],
   "source": [
    "from sklearn.model_selection import train_test_split\n",
    "X_train, X_test, y_train, y_test = train_test_split(data, target, random_state=42)"
   ]
  },
  {
   "cell_type": "code",
   "execution_count": 17,
   "metadata": {},
   "outputs": [],
   "source": [
    "# Support vector machine linear classifier\n",
    "from sklearn.svm import SVC \n",
    "model = SVC(kernel='linear')"
   ]
  },
  {
   "cell_type": "code",
   "execution_count": 18,
   "metadata": {},
   "outputs": [],
   "source": [
    " # Create the GridSearch estimator along with a parameter object containing the values to adjust\n",
    "from sklearn.model_selection import GridSearchCV\n",
    "param_grid = {'C': [1, 5, 10],\n",
    "              'gamma': [0.0001, 0.001, 0.01]}\n",
    "grid = GridSearchCV(model, param_grid, verbose=3)"
   ]
  },
  {
   "cell_type": "code",
   "execution_count": null,
   "metadata": {},
   "outputs": [
    {
     "name": "stderr",
     "output_type": "stream",
     "text": [
      "C:\\Users\\sherr\\Anaconda3\\envs\\PythonData\\lib\\site-packages\\sklearn\\model_selection\\_split.py:1943: FutureWarning: You should specify a value for 'cv' instead of relying on the default value. The default value will change from 3 to 5 in version 0.22.\n",
      "  warnings.warn(CV_WARNING, FutureWarning)\n",
      "C:\\Users\\sherr\\Anaconda3\\envs\\PythonData\\lib\\site-packages\\sklearn\\model_selection\\_split.py:626: Warning: The least populated class in y has only 1 members, which is too few. The minimum number of members in any class cannot be less than n_splits=3.\n",
      "  % (min_groups, self.n_splits)), Warning)\n",
      "[Parallel(n_jobs=1)]: Using backend SequentialBackend with 1 concurrent workers.\n"
     ]
    },
    {
     "name": "stdout",
     "output_type": "stream",
     "text": [
      "Fitting 3 folds for each of 9 candidates, totalling 27 fits\n",
      "[CV] gamma=0.0001, C=1 ...............................................\n"
     ]
    }
   ],
   "source": [
    "# Fit the model using the grid search estimator. \n",
    "# This will take the SVC model and try each combination of parameters\n",
    "grid.fit(X_train, y_train)"
   ]
  },
  {
   "cell_type": "code",
   "execution_count": null,
   "metadata": {},
   "outputs": [],
   "source": [
    "# List the best parameters for this dataset\n",
    "print(grid.best_params_)"
   ]
  },
  {
   "cell_type": "code",
   "execution_count": null,
   "metadata": {},
   "outputs": [],
   "source": [
    "# List the best score\n",
    "print(grid.best_score_)"
   ]
  },
  {
   "cell_type": "code",
   "execution_count": null,
   "metadata": {},
   "outputs": [],
   "source": [
    "# Make predictions with the hypertuned model\n",
    "predictions = grid.predict(X_test)"
   ]
  },
  {
   "cell_type": "code",
   "execution_count": null,
   "metadata": {},
   "outputs": [],
   "source": [
    "# Calculate classification report\n",
    "from sklearn.metrics import classification_report\n",
    "print(classification_report(y_test, predictions,\n",
    "                            target_names=[\"blue\", \"red\"]))"
   ]
  },
  {
   "cell_type": "code",
   "execution_count": null,
   "metadata": {},
   "outputs": [],
   "source": []
  }
 ],
 "metadata": {
  "kernelspec": {
   "display_name": "Python [default]",
   "language": "python",
   "name": "python3"
  },
  "language_info": {
   "codemirror_mode": {
    "name": "ipython",
    "version": 3
   },
   "file_extension": ".py",
   "mimetype": "text/x-python",
   "name": "python",
   "nbconvert_exporter": "python",
   "pygments_lexer": "ipython3",
   "version": "3.5.6"
  }
 },
 "nbformat": 4,
 "nbformat_minor": 2
}
