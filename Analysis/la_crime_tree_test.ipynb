{
 "cells": [
  {
   "cell_type": "code",
   "execution_count": 1,
   "metadata": {},
   "outputs": [],
   "source": [
    "from sklearn.tree import export_graphviz\n",
    "import pydot"
   ]
  },
  {
   "cell_type": "code",
   "execution_count": 21,
   "metadata": {},
   "outputs": [],
   "source": [
    "#Import dependencies\n",
    "import pandas as pd\n",
    "import sqlite3\n",
    "import argparse\n",
    "import json\n",
    "import pprint\n",
    "import requests\n",
    "import sys\n",
    "import urllib\n",
    "from urllib.error import HTTPError\n",
    "from urllib.parse import quote\n",
    "from urllib.parse import urlencode\n",
    "import matplotlib.pyplot as plt\n",
    "import csv\n",
    "import os"
   ]
  },
  {
   "cell_type": "code",
   "execution_count": null,
   "metadata": {},
   "outputs": [],
   "source": []
  },
  {
   "cell_type": "code",
   "execution_count": 22,
   "metadata": {},
   "outputs": [],
   "source": [
    "#Assign database file to a variable\n",
    "db_file = \"../Resources/Los_Angeles/crimedata.db\"\n",
    "\n",
    "#Connect to database file\n",
    "conn = sqlite3.connect(db_file)"
   ]
  },
  {
   "cell_type": "code",
   "execution_count": 50,
   "metadata": {
    "scrolled": true
   },
   "outputs": [
    {
     "data": {
      "text/html": [
       "<div>\n",
       "<style scoped>\n",
       "    .dataframe tbody tr th:only-of-type {\n",
       "        vertical-align: middle;\n",
       "    }\n",
       "\n",
       "    .dataframe tbody tr th {\n",
       "        vertical-align: top;\n",
       "    }\n",
       "\n",
       "    .dataframe thead th {\n",
       "        text-align: right;\n",
       "    }\n",
       "</style>\n",
       "<table border=\"1\" class=\"dataframe\">\n",
       "  <thead>\n",
       "    <tr style=\"text-align: right;\">\n",
       "      <th></th>\n",
       "      <th>DRNumber</th>\n",
       "      <th>DateReported</th>\n",
       "      <th>DateOccurred</th>\n",
       "      <th>TimeOccurred</th>\n",
       "      <th>AreaID</th>\n",
       "      <th>AreaName</th>\n",
       "      <th>ReportingDistrict</th>\n",
       "      <th>CrimeCode</th>\n",
       "      <th>CrimeCodeDescription</th>\n",
       "      <th>MOCodes</th>\n",
       "      <th>...</th>\n",
       "      <th>WeaponDescription</th>\n",
       "      <th>StatusCode</th>\n",
       "      <th>StatusDescription</th>\n",
       "      <th>CrimeCode1</th>\n",
       "      <th>CrimeCode2</th>\n",
       "      <th>CrimeCode3</th>\n",
       "      <th>CrimeCode4</th>\n",
       "      <th>Address</th>\n",
       "      <th>CrossStreet</th>\n",
       "      <th>Location</th>\n",
       "    </tr>\n",
       "  </thead>\n",
       "  <tbody>\n",
       "    <tr>\n",
       "      <th>0</th>\n",
       "      <td>170209449</td>\n",
       "      <td>4/22/2017</td>\n",
       "      <td>4/21/2017</td>\n",
       "      <td>1930</td>\n",
       "      <td>2</td>\n",
       "      <td>Rampart</td>\n",
       "      <td>201</td>\n",
       "      <td>510</td>\n",
       "      <td>VEHICLE - STOLEN</td>\n",
       "      <td></td>\n",
       "      <td>...</td>\n",
       "      <td></td>\n",
       "      <td>IC</td>\n",
       "      <td>Invest Cont</td>\n",
       "      <td>510</td>\n",
       "      <td></td>\n",
       "      <td></td>\n",
       "      <td></td>\n",
       "      <td>ALEXANDRIA</td>\n",
       "      <td>ROMAINE</td>\n",
       "      <td>(34.0886, -118.2979)</td>\n",
       "    </tr>\n",
       "    <tr>\n",
       "      <th>1</th>\n",
       "      <td>170206243</td>\n",
       "      <td>2/14/2017</td>\n",
       "      <td>2/11/2017</td>\n",
       "      <td>1700</td>\n",
       "      <td>2</td>\n",
       "      <td>Rampart</td>\n",
       "      <td>275</td>\n",
       "      <td>510</td>\n",
       "      <td>VEHICLE - STOLEN</td>\n",
       "      <td></td>\n",
       "      <td>...</td>\n",
       "      <td></td>\n",
       "      <td>IC</td>\n",
       "      <td>Invest Cont</td>\n",
       "      <td>510</td>\n",
       "      <td></td>\n",
       "      <td></td>\n",
       "      <td></td>\n",
       "      <td>OLYMPIC</td>\n",
       "      <td>WESTLAKE</td>\n",
       "      <td>(34.0512, -118.2787)</td>\n",
       "    </tr>\n",
       "    <tr>\n",
       "      <th>2</th>\n",
       "      <td>170311599</td>\n",
       "      <td>4/25/2017</td>\n",
       "      <td>4/25/2017</td>\n",
       "      <td>745</td>\n",
       "      <td>3</td>\n",
       "      <td>Southwest</td>\n",
       "      <td>325</td>\n",
       "      <td>510</td>\n",
       "      <td>VEHICLE - STOLEN</td>\n",
       "      <td></td>\n",
       "      <td>...</td>\n",
       "      <td></td>\n",
       "      <td>IC</td>\n",
       "      <td>Invest Cont</td>\n",
       "      <td>510</td>\n",
       "      <td></td>\n",
       "      <td></td>\n",
       "      <td></td>\n",
       "      <td>VERMONT</td>\n",
       "      <td>ADAMS</td>\n",
       "      <td>(34.0328, -118.2915)</td>\n",
       "    </tr>\n",
       "    <tr>\n",
       "      <th>3</th>\n",
       "      <td>170408264</td>\n",
       "      <td>4/7/2017</td>\n",
       "      <td>4/7/2017</td>\n",
       "      <td>1</td>\n",
       "      <td>4</td>\n",
       "      <td>Hollenbeck</td>\n",
       "      <td>421</td>\n",
       "      <td>510</td>\n",
       "      <td>VEHICLE - STOLEN</td>\n",
       "      <td></td>\n",
       "      <td>...</td>\n",
       "      <td></td>\n",
       "      <td>IC</td>\n",
       "      <td>Invest Cont</td>\n",
       "      <td>510</td>\n",
       "      <td></td>\n",
       "      <td></td>\n",
       "      <td></td>\n",
       "      <td>ALHAMBRA</td>\n",
       "      <td>VALLEY</td>\n",
       "      <td>(34.0676, -118.2202)</td>\n",
       "    </tr>\n",
       "    <tr>\n",
       "      <th>4</th>\n",
       "      <td>170508584</td>\n",
       "      <td>4/10/2017</td>\n",
       "      <td>4/8/2017</td>\n",
       "      <td>730</td>\n",
       "      <td>5</td>\n",
       "      <td>Harbor</td>\n",
       "      <td>566</td>\n",
       "      <td>510</td>\n",
       "      <td>VEHICLE - STOLEN</td>\n",
       "      <td></td>\n",
       "      <td>...</td>\n",
       "      <td></td>\n",
       "      <td>IC</td>\n",
       "      <td>Invest Cont</td>\n",
       "      <td>510</td>\n",
       "      <td></td>\n",
       "      <td></td>\n",
       "      <td></td>\n",
       "      <td>10TH</td>\n",
       "      <td>CENTURY</td>\n",
       "      <td>(33.7347, -118.2842)</td>\n",
       "    </tr>\n",
       "  </tbody>\n",
       "</table>\n",
       "<p>5 rows × 26 columns</p>\n",
       "</div>"
      ],
      "text/plain": [
       "    DRNumber DateReported DateOccurred TimeOccurred AreaID    AreaName  \\\n",
       "0  170209449    4/22/2017    4/21/2017         1930      2     Rampart   \n",
       "1  170206243    2/14/2017    2/11/2017         1700      2     Rampart   \n",
       "2  170311599    4/25/2017    4/25/2017          745      3   Southwest   \n",
       "3  170408264     4/7/2017     4/7/2017            1      4  Hollenbeck   \n",
       "4  170508584    4/10/2017     4/8/2017          730      5      Harbor   \n",
       "\n",
       "  ReportingDistrict CrimeCode CrimeCodeDescription MOCodes  \\\n",
       "0               201       510     VEHICLE - STOLEN           \n",
       "1               275       510     VEHICLE - STOLEN           \n",
       "2               325       510     VEHICLE - STOLEN           \n",
       "3               421       510     VEHICLE - STOLEN           \n",
       "4               566       510     VEHICLE - STOLEN           \n",
       "\n",
       "           ...          WeaponDescription StatusCode StatusDescription  \\\n",
       "0          ...                                    IC       Invest Cont   \n",
       "1          ...                                    IC       Invest Cont   \n",
       "2          ...                                    IC       Invest Cont   \n",
       "3          ...                                    IC       Invest Cont   \n",
       "4          ...                                    IC       Invest Cont   \n",
       "\n",
       "  CrimeCode1 CrimeCode2 CrimeCode3 CrimeCode4     Address CrossStreet  \\\n",
       "0        510                                   ALEXANDRIA     ROMAINE   \n",
       "1        510                                      OLYMPIC    WESTLAKE   \n",
       "2        510                                      VERMONT       ADAMS   \n",
       "3        510                                     ALHAMBRA      VALLEY   \n",
       "4        510                                         10TH     CENTURY   \n",
       "\n",
       "               Location  \n",
       "0  (34.0886, -118.2979)  \n",
       "1  (34.0512, -118.2787)  \n",
       "2  (34.0328, -118.2915)  \n",
       "3  (34.0676, -118.2202)  \n",
       "4  (33.7347, -118.2842)  \n",
       "\n",
       "[5 rows x 26 columns]"
      ]
     },
     "execution_count": 50,
     "metadata": {},
     "output_type": "execute_result"
    }
   ],
   "source": [
    "#Query the la crime data table and put into a pandas dataframe\n",
    "crime_df = pd.read_sql_query(\"select * from la_crime_1718;\", conn)\n",
    "crime_df.head()"
   ]
  },
  {
   "cell_type": "code",
   "execution_count": 24,
   "metadata": {
    "scrolled": true
   },
   "outputs": [
    {
     "data": {
      "text/plain": [
       "Index(['DRNumber', 'DateReported', 'DateOccurred', 'TimeOccurred', 'AreaID',\n",
       "       'AreaName', 'ReportingDistrict', 'CrimeCode', 'CrimeCodeDescription',\n",
       "       'MOCodes', 'VictimAge', 'VictimSex', 'VictimDescent', 'PremiseCode',\n",
       "       'PremiseDescription', 'WeaponUsedCode', 'WeaponDescription',\n",
       "       'StatusCode', 'StatusDescription', 'CrimeCode1', 'CrimeCode2',\n",
       "       'CrimeCode3', 'CrimeCode4', 'Address', 'CrossStreet', 'Location'],\n",
       "      dtype='object')"
      ]
     },
     "execution_count": 24,
     "metadata": {},
     "output_type": "execute_result"
    }
   ],
   "source": [
    "crime_df.columns"
   ]
  },
  {
   "cell_type": "code",
   "execution_count": 51,
   "metadata": {
    "scrolled": true
   },
   "outputs": [
    {
     "data": {
      "text/html": [
       "<div>\n",
       "<style scoped>\n",
       "    .dataframe tbody tr th:only-of-type {\n",
       "        vertical-align: middle;\n",
       "    }\n",
       "\n",
       "    .dataframe tbody tr th {\n",
       "        vertical-align: top;\n",
       "    }\n",
       "\n",
       "    .dataframe thead th {\n",
       "        text-align: right;\n",
       "    }\n",
       "</style>\n",
       "<table border=\"1\" class=\"dataframe\">\n",
       "  <thead>\n",
       "    <tr style=\"text-align: right;\">\n",
       "      <th></th>\n",
       "      <th>AreaID</th>\n",
       "      <th>ReportingDistrict</th>\n",
       "      <th>CrimeCode</th>\n",
       "      <th>VictimAge</th>\n",
       "      <th>PremiseCode</th>\n",
       "    </tr>\n",
       "  </thead>\n",
       "  <tbody>\n",
       "    <tr>\n",
       "      <th>0</th>\n",
       "      <td>2</td>\n",
       "      <td>201</td>\n",
       "      <td>510</td>\n",
       "      <td>16</td>\n",
       "      <td>101</td>\n",
       "    </tr>\n",
       "    <tr>\n",
       "      <th>1</th>\n",
       "      <td>2</td>\n",
       "      <td>275</td>\n",
       "      <td>510</td>\n",
       "      <td>16</td>\n",
       "      <td>101</td>\n",
       "    </tr>\n",
       "    <tr>\n",
       "      <th>2</th>\n",
       "      <td>3</td>\n",
       "      <td>325</td>\n",
       "      <td>510</td>\n",
       "      <td>16</td>\n",
       "      <td>101</td>\n",
       "    </tr>\n",
       "    <tr>\n",
       "      <th>3</th>\n",
       "      <td>4</td>\n",
       "      <td>421</td>\n",
       "      <td>510</td>\n",
       "      <td>16</td>\n",
       "      <td>101</td>\n",
       "    </tr>\n",
       "    <tr>\n",
       "      <th>4</th>\n",
       "      <td>5</td>\n",
       "      <td>566</td>\n",
       "      <td>510</td>\n",
       "      <td>16</td>\n",
       "      <td>101</td>\n",
       "    </tr>\n",
       "  </tbody>\n",
       "</table>\n",
       "</div>"
      ],
      "text/plain": [
       "  AreaID ReportingDistrict CrimeCode VictimAge PremiseCode\n",
       "0      2               201       510        16         101\n",
       "1      2               275       510        16         101\n",
       "2      3               325       510        16         101\n",
       "3      4               421       510        16         101\n",
       "4      5               566       510        16         101"
      ]
     },
     "execution_count": 51,
     "metadata": {},
     "output_type": "execute_result"
    }
   ],
   "source": [
    "# Drop unnecessary crime columns for machine learning\n",
    "crime_df = crime_df.drop(['DRNumber','DateReported', \n",
    "                          'DateOccurred','TimeOccurred',\n",
    "                          'AreaName','CrimeCodeDescription',\n",
    "                          'MOCodes','VictimSex',\n",
    "                          'WeaponUsedCode','PremiseDescription',\n",
    "                          'WeaponDescription','VictimDescent',\n",
    "                          'StatusCode', 'StatusDescription',\n",
    "                          'Address', 'CrossStreet',\n",
    "                          'CrimeCode1', 'CrimeCode2',\n",
    "                          'CrimeCode3', 'CrimeCode4','Location'\n",
    "                         ], axis=1)\n",
    "crime_df.head()"
   ]
  },
  {
   "cell_type": "code",
   "execution_count": 52,
   "metadata": {},
   "outputs": [
    {
     "data": {
      "text/plain": [
       "AreaID               174766\n",
       "ReportingDistrict    174766\n",
       "CrimeCode            174766\n",
       "VictimAge            174766\n",
       "PremiseCode          174766\n",
       "dtype: int64"
      ]
     },
     "execution_count": 52,
     "metadata": {},
     "output_type": "execute_result"
    }
   ],
   "source": [
    "crime_df.count()"
   ]
  },
  {
   "cell_type": "code",
   "execution_count": 53,
   "metadata": {},
   "outputs": [
    {
     "data": {
      "text/plain": [
       "17    12516\n",
       "16    12093\n",
       "      11503\n",
       "26     4411\n",
       "27     4323\n",
       "25     4271\n",
       "28     4179\n",
       "29     4131\n",
       "24     4063\n",
       "30     3966\n",
       "Name: VictimAge, dtype: int64"
      ]
     },
     "execution_count": 53,
     "metadata": {},
     "output_type": "execute_result"
    }
   ],
   "source": [
    "# Most victim age crimes are commited against\n",
    "ages = crime_df.VictimAge.value_counts()\n",
    "ages.head(10)"
   ]
  },
  {
   "cell_type": "code",
   "execution_count": 54,
   "metadata": {},
   "outputs": [
    {
     "data": {
      "text/plain": [
       "3     26280\n",
       "1     24183\n",
       "6     20940\n",
       "7     18542\n",
       "2     18192\n",
       "9     17306\n",
       "5     16300\n",
       "4     15293\n",
       "8     15290\n",
       "13      816\n",
       "Name: AreaID, dtype: int64"
      ]
     },
     "execution_count": 54,
     "metadata": {},
     "output_type": "execute_result"
    }
   ],
   "source": [
    "area_ID = crime_df.AreaID.value_counts() \n",
    "area_ID.head(10)"
   ]
  },
  {
   "cell_type": "code",
   "execution_count": 55,
   "metadata": {},
   "outputs": [
    {
     "data": {
      "text/plain": [
       "101    38064\n",
       "502    24341\n",
       "501    22651\n",
       "108    12778\n",
       "102    11263\n",
       "Name: PremiseCode, dtype: int64"
      ]
     },
     "execution_count": 55,
     "metadata": {},
     "output_type": "execute_result"
    }
   ],
   "source": [
    "premise_desc = crime_df.PremiseCode.value_counts() \n",
    "premise_desc.head()"
   ]
  },
  {
   "cell_type": "code",
   "execution_count": 56,
   "metadata": {},
   "outputs": [
    {
     "data": {
      "text/plain": [
       "624    16820\n",
       "330    14673\n",
       "440    13046\n",
       "510    11412\n",
       "310    10286\n",
       "740    10077\n",
       "626     8903\n",
       "230     8644\n",
       "210     7344\n",
       "420     6942\n",
       "Name: CrimeCode, dtype: int64"
      ]
     },
     "execution_count": 56,
     "metadata": {},
     "output_type": "execute_result"
    }
   ],
   "source": [
    "crime_code = crime_df.CrimeCode.value_counts() \n",
    "crime_code.head(10)"
   ]
  },
  {
   "cell_type": "code",
   "execution_count": 156,
   "metadata": {},
   "outputs": [
    {
     "data": {
      "text/html": [
       "<div>\n",
       "<style scoped>\n",
       "    .dataframe tbody tr th:only-of-type {\n",
       "        vertical-align: middle;\n",
       "    }\n",
       "\n",
       "    .dataframe tbody tr th {\n",
       "        vertical-align: top;\n",
       "    }\n",
       "\n",
       "    .dataframe thead th {\n",
       "        text-align: right;\n",
       "    }\n",
       "</style>\n",
       "<table border=\"1\" class=\"dataframe\">\n",
       "  <thead>\n",
       "    <tr style=\"text-align: right;\">\n",
       "      <th></th>\n",
       "      <th>AreaID</th>\n",
       "      <th>ReportingDistrict</th>\n",
       "      <th>CrimeCode</th>\n",
       "      <th>VictimAge</th>\n",
       "      <th>PremiseCode</th>\n",
       "    </tr>\n",
       "  </thead>\n",
       "  <tbody>\n",
       "    <tr>\n",
       "      <th>5</th>\n",
       "      <td>7</td>\n",
       "      <td>727</td>\n",
       "      <td>510</td>\n",
       "      <td>16</td>\n",
       "      <td>101</td>\n",
       "    </tr>\n",
       "    <tr>\n",
       "      <th>36</th>\n",
       "      <td>7</td>\n",
       "      <td>736</td>\n",
       "      <td>510</td>\n",
       "      <td>16</td>\n",
       "      <td>123</td>\n",
       "    </tr>\n",
       "    <tr>\n",
       "      <th>27893</th>\n",
       "      <td>7</td>\n",
       "      <td>724</td>\n",
       "      <td>510</td>\n",
       "      <td>16</td>\n",
       "      <td>707</td>\n",
       "    </tr>\n",
       "    <tr>\n",
       "      <th>28019</th>\n",
       "      <td>7</td>\n",
       "      <td>774</td>\n",
       "      <td>510</td>\n",
       "      <td>16</td>\n",
       "      <td>101</td>\n",
       "    </tr>\n",
       "    <tr>\n",
       "      <th>28150</th>\n",
       "      <td>7</td>\n",
       "      <td>701</td>\n",
       "      <td>480</td>\n",
       "      <td>34</td>\n",
       "      <td>108</td>\n",
       "    </tr>\n",
       "  </tbody>\n",
       "</table>\n",
       "</div>"
      ],
      "text/plain": [
       "      AreaID ReportingDistrict CrimeCode VictimAge PremiseCode\n",
       "5          7               727       510        16         101\n",
       "36         7               736       510        16         123\n",
       "27893      7               724       510        16         707\n",
       "28019      7               774       510        16         101\n",
       "28150      7               701       480        34         108"
      ]
     },
     "execution_count": 156,
     "metadata": {},
     "output_type": "execute_result"
    }
   ],
   "source": [
    "# model_small_df = crime_df.loc[crime_df['CrimeCode'].isin(['624'])]\n",
    "# 440 - 0.628928407174613\n",
    "model_small_df = crime_df.loc[crime_df['AreaID'].isin(['7'])]\n",
    "\n",
    "model_small_df.head()"
   ]
  },
  {
   "cell_type": "code",
   "execution_count": 157,
   "metadata": {},
   "outputs": [
    {
     "data": {
      "text/plain": [
       "AreaID               18542\n",
       "ReportingDistrict    18542\n",
       "CrimeCode            18542\n",
       "VictimAge            18542\n",
       "PremiseCode          18542\n",
       "dtype: int64"
      ]
     },
     "execution_count": 157,
     "metadata": {},
     "output_type": "execute_result"
    }
   ],
   "source": [
    "model_small_df.count()"
   ]
  },
  {
   "cell_type": "code",
   "execution_count": 158,
   "metadata": {},
   "outputs": [
    {
     "name": "stderr",
     "output_type": "stream",
     "text": [
      "C:\\Users\\sherr\\Anaconda3\\lib\\site-packages\\ipykernel_launcher.py:2: SettingWithCopyWarning: \n",
      "A value is trying to be set on a copy of a slice from a DataFrame.\n",
      "Try using .loc[row_indexer,col_indexer] = value instead\n",
      "\n",
      "See the caveats in the documentation: http://pandas.pydata.org/pandas-docs/stable/indexing.html#indexing-view-versus-copy\n",
      "  \n",
      "C:\\Users\\sherr\\Anaconda3\\lib\\site-packages\\ipykernel_launcher.py:3: SettingWithCopyWarning: \n",
      "A value is trying to be set on a copy of a slice from a DataFrame.\n",
      "Try using .loc[row_indexer,col_indexer] = value instead\n",
      "\n",
      "See the caveats in the documentation: http://pandas.pydata.org/pandas-docs/stable/indexing.html#indexing-view-versus-copy\n",
      "  This is separate from the ipykernel package so we can avoid doing imports until\n",
      "C:\\Users\\sherr\\Anaconda3\\lib\\site-packages\\ipykernel_launcher.py:4: SettingWithCopyWarning: \n",
      "A value is trying to be set on a copy of a slice from a DataFrame.\n",
      "Try using .loc[row_indexer,col_indexer] = value instead\n",
      "\n",
      "See the caveats in the documentation: http://pandas.pydata.org/pandas-docs/stable/indexing.html#indexing-view-versus-copy\n",
      "  after removing the cwd from sys.path.\n",
      "C:\\Users\\sherr\\Anaconda3\\lib\\site-packages\\ipykernel_launcher.py:5: SettingWithCopyWarning: \n",
      "A value is trying to be set on a copy of a slice from a DataFrame.\n",
      "Try using .loc[row_indexer,col_indexer] = value instead\n",
      "\n",
      "See the caveats in the documentation: http://pandas.pydata.org/pandas-docs/stable/indexing.html#indexing-view-versus-copy\n",
      "  \"\"\"\n",
      "C:\\Users\\sherr\\Anaconda3\\lib\\site-packages\\ipykernel_launcher.py:6: SettingWithCopyWarning: \n",
      "A value is trying to be set on a copy of a slice from a DataFrame.\n",
      "Try using .loc[row_indexer,col_indexer] = value instead\n",
      "\n",
      "See the caveats in the documentation: http://pandas.pydata.org/pandas-docs/stable/indexing.html#indexing-view-versus-copy\n",
      "  \n"
     ]
    },
    {
     "data": {
      "text/html": [
       "<div>\n",
       "<style scoped>\n",
       "    .dataframe tbody tr th:only-of-type {\n",
       "        vertical-align: middle;\n",
       "    }\n",
       "\n",
       "    .dataframe tbody tr th {\n",
       "        vertical-align: top;\n",
       "    }\n",
       "\n",
       "    .dataframe thead th {\n",
       "        text-align: right;\n",
       "    }\n",
       "</style>\n",
       "<table border=\"1\" class=\"dataframe\">\n",
       "  <thead>\n",
       "    <tr style=\"text-align: right;\">\n",
       "      <th></th>\n",
       "      <th>AreaID</th>\n",
       "      <th>ReportingDistrict</th>\n",
       "      <th>CrimeCode</th>\n",
       "      <th>VictimAge</th>\n",
       "      <th>PremiseCode</th>\n",
       "    </tr>\n",
       "  </thead>\n",
       "  <tbody>\n",
       "    <tr>\n",
       "      <th>5</th>\n",
       "      <td>7</td>\n",
       "      <td>727</td>\n",
       "      <td>510</td>\n",
       "      <td>16.0</td>\n",
       "      <td>101</td>\n",
       "    </tr>\n",
       "    <tr>\n",
       "      <th>36</th>\n",
       "      <td>7</td>\n",
       "      <td>736</td>\n",
       "      <td>510</td>\n",
       "      <td>16.0</td>\n",
       "      <td>123</td>\n",
       "    </tr>\n",
       "    <tr>\n",
       "      <th>27893</th>\n",
       "      <td>7</td>\n",
       "      <td>724</td>\n",
       "      <td>510</td>\n",
       "      <td>16.0</td>\n",
       "      <td>707</td>\n",
       "    </tr>\n",
       "    <tr>\n",
       "      <th>28019</th>\n",
       "      <td>7</td>\n",
       "      <td>774</td>\n",
       "      <td>510</td>\n",
       "      <td>16.0</td>\n",
       "      <td>101</td>\n",
       "    </tr>\n",
       "    <tr>\n",
       "      <th>28150</th>\n",
       "      <td>7</td>\n",
       "      <td>701</td>\n",
       "      <td>480</td>\n",
       "      <td>34.0</td>\n",
       "      <td>108</td>\n",
       "    </tr>\n",
       "  </tbody>\n",
       "</table>\n",
       "</div>"
      ],
      "text/plain": [
       "       AreaID  ReportingDistrict  CrimeCode  VictimAge  PremiseCode\n",
       "5           7                727        510       16.0          101\n",
       "36          7                736        510       16.0          123\n",
       "27893       7                724        510       16.0          707\n",
       "28019       7                774        510       16.0          101\n",
       "28150       7                701        480       34.0          108"
      ]
     },
     "execution_count": 158,
     "metadata": {},
     "output_type": "execute_result"
    }
   ],
   "source": [
    "#COnvert the datatype of each column to numeric for machine learning\n",
    "model_small_df['AreaID'] = model_small_df['AreaID'].apply(pd.to_numeric, errors='coerce')\n",
    "model_small_df['CrimeCode'] = model_small_df['CrimeCode'].apply(pd.to_numeric, errors='coerce')\n",
    "model_small_df['ReportingDistrict'] = model_small_df['ReportingDistrict'].apply(pd.to_numeric, errors='coerce')\n",
    "model_small_df['VictimAge'] = model_small_df['VictimAge'].apply(pd.to_numeric, errors='coerce')\n",
    "model_small_df['PremiseCode'] = model_small_df['PremiseCode'].apply(pd.to_numeric, errors='coerce')\n",
    "\n",
    "model_small_df = model_small_df.fillna(0)\n",
    "model_small_df.reset_index()\n",
    "model_small_df.head()"
   ]
  },
  {
   "cell_type": "code",
   "execution_count": 159,
   "metadata": {},
   "outputs": [
    {
     "name": "stdout",
     "output_type": "stream",
     "text": [
      "(18542, 4) (18542,)\n"
     ]
    }
   ],
   "source": [
    "X = model_small_df.drop(\"CrimeCode\", axis=1)\n",
    "y = model_small_df[\"CrimeCode\"]\n",
    "feature_names = model_small_df.columns\n",
    "print(X.shape, y.shape)"
   ]
  },
  {
   "cell_type": "code",
   "execution_count": 160,
   "metadata": {},
   "outputs": [
    {
     "data": {
      "text/plain": [
       "0.7205263725595944"
      ]
     },
     "execution_count": 160,
     "metadata": {},
     "output_type": "execute_result"
    }
   ],
   "source": [
    "from sklearn.ensemble import RandomForestClassifier\n",
    "rf = RandomForestClassifier(n_estimators=20)\n",
    "rf = rf.fit(X, y)\n",
    "rf.score(X, y)"
   ]
  },
  {
   "cell_type": "code",
   "execution_count": 136,
   "metadata": {},
   "outputs": [
    {
     "data": {
      "text/plain": [
       "array([0.        , 0.29236349, 0.44085382, 0.26678269])"
      ]
     },
     "execution_count": 136,
     "metadata": {},
     "output_type": "execute_result"
    }
   ],
   "source": [
    "importances = rf.feature_importances_\n",
    "importances"
   ]
  },
  {
   "cell_type": "code",
   "execution_count": 126,
   "metadata": {
    "scrolled": true
   },
   "outputs": [
    {
     "data": {
      "text/plain": [
       "[(0.7108896855141416, 'CrimeCode'),\n",
       " (0.15545536105455987, 'VictimAge'),\n",
       " (0.13365495343129868, 'AreaID'),\n",
       " (0.0, 'ReportingDistrict')]"
      ]
     },
     "execution_count": 126,
     "metadata": {},
     "output_type": "execute_result"
    }
   ],
   "source": [
    "sorted(zip(rf.feature_importances_, feature_names), reverse=True) "
   ]
  },
  {
   "cell_type": "code",
   "execution_count": 127,
   "metadata": {},
   "outputs": [],
   "source": [
    " from sklearn.model_selection import train_test_split\n",
    "X_train, X_test, y_train, y_test = train_test_split(X, y, random_state=42)"
   ]
  },
  {
   "cell_type": "code",
   "execution_count": null,
   "metadata": {},
   "outputs": [],
   "source": [
    " # Model Accuracy\n",
    "print('Test Acc: %.3f' % model.score(X_test, y_test))"
   ]
  },
  {
   "cell_type": "code",
   "execution_count": null,
   "metadata": {},
   "outputs": [],
   "source": [
    "# Create the GridSearch estimator along with a parameter object containing the values to adjust\n",
    "from sklearn.model_selection import GridSearchCV\n",
    "param_grid = {'C': [1, 5, 10],\n",
    "              'gamma': [0.0001, 0.001, 0.01]}\n",
    "grid = GridSearchCV(model, param_grid, verbose=3)"
   ]
  },
  {
   "cell_type": "code",
   "execution_count": null,
   "metadata": {
    "scrolled": true
   },
   "outputs": [],
   "source": [
    "# Fit the model using the grid search estimator. \n",
    "# This will take the SVC model and try each combination of parameters\n",
    "grid.fit(X_train, y_train)"
   ]
  },
  {
   "cell_type": "code",
   "execution_count": null,
   "metadata": {},
   "outputs": [],
   "source": [
    "# List the best parameters for this dataset\n",
    "print(grid.best_params_)"
   ]
  },
  {
   "cell_type": "code",
   "execution_count": null,
   "metadata": {},
   "outputs": [],
   "source": [
    " # List the best score\n",
    "print(grid.best_score_)"
   ]
  },
  {
   "cell_type": "code",
   "execution_count": null,
   "metadata": {},
   "outputs": [],
   "source": [
    " # Make predictions with the hypertuned model\n",
    "predictions = grid.predict(X_test)"
   ]
  },
  {
   "cell_type": "code",
   "execution_count": 161,
   "metadata": {},
   "outputs": [
    {
     "ename": "ModuleNotFoundError",
     "evalue": "No module named 'pydot'",
     "output_type": "error",
     "traceback": [
      "\u001b[1;31m---------------------------------------------------------------------------\u001b[0m",
      "\u001b[1;31mModuleNotFoundError\u001b[0m                       Traceback (most recent call last)",
      "\u001b[1;32m<ipython-input-161-52e2e8ad27b5>\u001b[0m in \u001b[0;36m<module>\u001b[1;34m\u001b[0m\n\u001b[0;32m      1\u001b[0m \u001b[1;32mfrom\u001b[0m \u001b[0msklearn\u001b[0m\u001b[1;33m.\u001b[0m\u001b[0mtree\u001b[0m \u001b[1;32mimport\u001b[0m \u001b[0mexport_graphviz\u001b[0m\u001b[1;33m\u001b[0m\u001b[1;33m\u001b[0m\u001b[0m\n\u001b[1;32m----> 2\u001b[1;33m \u001b[1;32mimport\u001b[0m \u001b[0mpydot\u001b[0m\u001b[1;33m\u001b[0m\u001b[1;33m\u001b[0m\u001b[0m\n\u001b[0m\u001b[0;32m      3\u001b[0m \u001b[1;33m\u001b[0m\u001b[0m\n\u001b[0;32m      4\u001b[0m \u001b[1;31m#Extract one of the trees\u001b[0m\u001b[1;33m\u001b[0m\u001b[1;33m\u001b[0m\u001b[1;33m\u001b[0m\u001b[0m\n\u001b[0;32m      5\u001b[0m \u001b[0mtree\u001b[0m \u001b[1;33m=\u001b[0m \u001b[0mrf\u001b[0m\u001b[1;33m.\u001b[0m\u001b[0mestimators_\u001b[0m\u001b[1;33m[\u001b[0m\u001b[1;36m3\u001b[0m\u001b[1;33m]\u001b[0m\u001b[1;33m\u001b[0m\u001b[1;33m\u001b[0m\u001b[0m\n",
      "\u001b[1;31mModuleNotFoundError\u001b[0m: No module named 'pydot'"
     ]
    }
   ],
   "source": [
    "from sklearn.tree import export_graphviz\n",
    "import pydot\n",
    "\n",
    "#Extract one of the trees\n",
    "tree = rf.estimators_[3]\n",
    "\n",
    "#Save the tree as a png\n",
    "export_graphviz(tree, out_file='crime_tree.dot', feature_names = feature_names, rounded=True, precision=1)\n",
    "\n",
    "(graph, ) = pydot.graph_from_dot_file('crime_tree.dot')\n",
    "\n",
    "graph.write_png('crime_tree.png')"
   ]
  },
  {
   "cell_type": "code",
   "execution_count": null,
   "metadata": {},
   "outputs": [],
   "source": []
  }
 ],
 "metadata": {
  "kernelspec": {
   "display_name": "Python [default]",
   "language": "python",
   "name": "python3"
  },
  "language_info": {
   "codemirror_mode": {
    "name": "ipython",
    "version": 3
   },
   "file_extension": ".py",
   "mimetype": "text/x-python",
   "name": "python",
   "nbconvert_exporter": "python",
   "pygments_lexer": "ipython3",
   "version": "3.5.6"
  }
 },
 "nbformat": 4,
 "nbformat_minor": 2
}
