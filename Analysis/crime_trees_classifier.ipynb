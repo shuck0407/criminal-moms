{
 "cells": [
  {
   "cell_type": "code",
   "execution_count": 2,
   "metadata": {},
   "outputs": [],
   "source": [
    "#Import dependencies\n",
    "%matplotlib inline\n",
    "import matplotlib.pyplot as plt\n",
    "import pandas as pd\n",
    "import sqlite3\n",
    "import argparse\n",
    "import json\n",
    "import pprint\n",
    "import requests\n",
    "import sys\n",
    "import urllib\n",
    "import os \n",
    "from urllib.error import HTTPError\n",
    "from urllib.parse import quote\n",
    "from urllib.parse import urlencode"
   ]
  },
  {
   "cell_type": "code",
   "execution_count": 3,
   "metadata": {},
   "outputs": [],
   "source": [
    "#Assign database file to a variable\n",
    "db_file = \"../Resources/Los_Angeles/crimedata.db\"\n",
    "\n",
    "#Connect to database file\n",
    "conn = sqlite3.connect(db_file)"
   ]
  },
  {
   "cell_type": "code",
   "execution_count": 162,
   "metadata": {},
   "outputs": [
    {
     "data": {
      "text/html": [
       "<div>\n",
       "<style scoped>\n",
       "    .dataframe tbody tr th:only-of-type {\n",
       "        vertical-align: middle;\n",
       "    }\n",
       "\n",
       "    .dataframe tbody tr th {\n",
       "        vertical-align: top;\n",
       "    }\n",
       "\n",
       "    .dataframe thead th {\n",
       "        text-align: right;\n",
       "    }\n",
       "</style>\n",
       "<table border=\"1\" class=\"dataframe\">\n",
       "  <thead>\n",
       "    <tr style=\"text-align: right;\">\n",
       "      <th></th>\n",
       "      <th>AreaID</th>\n",
       "      <th>ReportingDistrict</th>\n",
       "      <th>CrimeCode</th>\n",
       "      <th>VictimAge</th>\n",
       "      <th>PremiseCode</th>\n",
       "    </tr>\n",
       "  </thead>\n",
       "  <tbody>\n",
       "    <tr>\n",
       "      <th>0</th>\n",
       "      <td>2</td>\n",
       "      <td>201</td>\n",
       "      <td>510</td>\n",
       "      <td>16.0</td>\n",
       "      <td>101.0</td>\n",
       "    </tr>\n",
       "    <tr>\n",
       "      <th>1</th>\n",
       "      <td>2</td>\n",
       "      <td>275</td>\n",
       "      <td>510</td>\n",
       "      <td>16.0</td>\n",
       "      <td>101.0</td>\n",
       "    </tr>\n",
       "    <tr>\n",
       "      <th>2</th>\n",
       "      <td>3</td>\n",
       "      <td>325</td>\n",
       "      <td>510</td>\n",
       "      <td>16.0</td>\n",
       "      <td>101.0</td>\n",
       "    </tr>\n",
       "    <tr>\n",
       "      <th>3</th>\n",
       "      <td>4</td>\n",
       "      <td>421</td>\n",
       "      <td>510</td>\n",
       "      <td>16.0</td>\n",
       "      <td>101.0</td>\n",
       "    </tr>\n",
       "    <tr>\n",
       "      <th>4</th>\n",
       "      <td>5</td>\n",
       "      <td>566</td>\n",
       "      <td>510</td>\n",
       "      <td>16.0</td>\n",
       "      <td>101.0</td>\n",
       "    </tr>\n",
       "  </tbody>\n",
       "</table>\n",
       "</div>"
      ],
      "text/plain": [
       "  AreaID ReportingDistrict CrimeCode VictimAge PremiseCode\n",
       "0      2               201       510      16.0       101.0\n",
       "1      2               275       510      16.0       101.0\n",
       "2      3               325       510      16.0       101.0\n",
       "3      4               421       510      16.0       101.0\n",
       "4      5               566       510      16.0       101.0"
      ]
     },
     "execution_count": 162,
     "metadata": {},
     "output_type": "execute_result"
    }
   ],
   "source": [
    "#Query the la crime data table and put into a pandas dataframe\n",
    "crime_df = pd.read_sql_query(\"select * from sherry_la_crime_clean_data;\", conn)\n",
    "crime_df.head()"
   ]
  },
  {
   "cell_type": "code",
   "execution_count": 163,
   "metadata": {},
   "outputs": [
    {
     "data": {
      "text/plain": [
       "AreaID               174766\n",
       "ReportingDistrict    174766\n",
       "CrimeCode            174766\n",
       "VictimAge            174766\n",
       "PremiseCode          174766\n",
       "dtype: int64"
      ]
     },
     "execution_count": 163,
     "metadata": {},
     "output_type": "execute_result"
    }
   ],
   "source": [
    "crime_df.count()"
   ]
  },
  {
   "cell_type": "code",
   "execution_count": 164,
   "metadata": {},
   "outputs": [
    {
     "data": {
      "text/plain": [
       "17.0    12516\n",
       "16.0    12093\n",
       "0.0     11503\n",
       "26.0     4411\n",
       "27.0     4323\n",
       "25.0     4271\n",
       "28.0     4179\n",
       "29.0     4131\n",
       "24.0     4063\n",
       "30.0     3966\n",
       "31.0     3960\n",
       "Name: VictimAge, dtype: int64"
      ]
     },
     "execution_count": 164,
     "metadata": {},
     "output_type": "execute_result"
    }
   ],
   "source": [
    "# Most victim age crimes are commited against\n",
    "ages = crime_df.VictimAge.value_counts()\n",
    "ages.head(11)"
   ]
  },
  {
   "cell_type": "code",
   "execution_count": 165,
   "metadata": {},
   "outputs": [
    {
     "data": {
      "text/plain": [
       "3     26280\n",
       "1     24183\n",
       "6     20940\n",
       "7     18542\n",
       "2     18192\n",
       "9     17306\n",
       "5     16300\n",
       "4     15293\n",
       "8     15290\n",
       "13      816\n",
       "Name: AreaID, dtype: int64"
      ]
     },
     "execution_count": 165,
     "metadata": {},
     "output_type": "execute_result"
    }
   ],
   "source": [
    "area_ID = crime_df.AreaID.value_counts() \n",
    "area_ID.head(10)"
   ]
  },
  {
   "cell_type": "code",
   "execution_count": 166,
   "metadata": {},
   "outputs": [
    {
     "data": {
      "text/plain": [
       "101.0    38064\n",
       "502.0    24341\n",
       "501.0    22651\n",
       "108.0    12778\n",
       "102.0    11263\n",
       "203.0     9227\n",
       "122.0     6446\n",
       "707.0     3320\n",
       "210.0     3165\n",
       "123.0     2574\n",
       "Name: PremiseCode, dtype: int64"
      ]
     },
     "execution_count": 166,
     "metadata": {},
     "output_type": "execute_result"
    }
   ],
   "source": [
    "premise_desc = crime_df.PremiseCode.value_counts() \n",
    "premise_desc.head(10)"
   ]
  },
  {
   "cell_type": "code",
   "execution_count": 167,
   "metadata": {},
   "outputs": [
    {
     "data": {
      "text/plain": [
       "624    16820\n",
       "330    14673\n",
       "440    13046\n",
       "510    11412\n",
       "310    10286\n",
       "740    10077\n",
       "626     8903\n",
       "230     8644\n",
       "210     7344\n",
       "420     6942\n",
       "Name: CrimeCode, dtype: int64"
      ]
     },
     "execution_count": 167,
     "metadata": {},
     "output_type": "execute_result"
    }
   ],
   "source": [
    "crime_code = crime_df.CrimeCode.value_counts() \n",
    "crime_code.head(10)"
   ]
  },
  {
   "cell_type": "code",
   "execution_count": 168,
   "metadata": {},
   "outputs": [
    {
     "data": {
      "text/plain": [
       "645    2735\n",
       "646    2247\n",
       "363    1898\n",
       "162    1857\n",
       "636    1672\n",
       "152    1502\n",
       "666    1497\n",
       "156    1327\n",
       "111    1316\n",
       "182    1184\n",
       "Name: ReportingDistrict, dtype: int64"
      ]
     },
     "execution_count": 168,
     "metadata": {},
     "output_type": "execute_result"
    }
   ],
   "source": [
    "report_district = crime_df.ReportingDistrict.value_counts() \n",
    "report_district.head(10)"
   ]
  },
  {
   "cell_type": "code",
   "execution_count": 169,
   "metadata": {},
   "outputs": [
    {
     "data": {
      "text/plain": [
       "AreaID               object\n",
       "ReportingDistrict    object\n",
       "CrimeCode            object\n",
       "VictimAge            object\n",
       "PremiseCode          object\n",
       "dtype: object"
      ]
     },
     "execution_count": 169,
     "metadata": {},
     "output_type": "execute_result"
    }
   ],
   "source": [
    "crime_df.dtypes"
   ]
  },
  {
   "cell_type": "code",
   "execution_count": 170,
   "metadata": {},
   "outputs": [
    {
     "data": {
      "text/plain": [
       "AreaID                 int64\n",
       "ReportingDistrict      int64\n",
       "CrimeCode              int64\n",
       "VictimAge            float64\n",
       "PremiseCode          float64\n",
       "dtype: object"
      ]
     },
     "execution_count": 170,
     "metadata": {},
     "output_type": "execute_result"
    }
   ],
   "source": [
    "#COnvert the datatype of each column to numeric for machine learning\n",
    "crime_df['AreaID'] = crime_df['AreaID'].apply(pd.to_numeric, errors='coerce')\n",
    "crime_df['CrimeCode'] = crime_df['CrimeCode'].apply(pd.to_numeric, errors='coerce')\n",
    "crime_df['ReportingDistrict'] = crime_df['ReportingDistrict'].apply(pd.to_numeric, errors='coerce')\n",
    "crime_df['VictimAge'] = crime_df['VictimAge'].apply(pd.to_numeric, errors='coerce')\n",
    "crime_df['PremiseCode'] = crime_df['PremiseCode'].apply(pd.to_numeric, errors='coerce')\n",
    "\n",
    "crime_df = crime_df.fillna(0)\n",
    "crime_df.reset_index()\n",
    "crime_df.dtypes"
   ]
  },
  {
   "cell_type": "code",
   "execution_count": 211,
   "metadata": {},
   "outputs": [
    {
     "data": {
      "text/html": [
       "<div>\n",
       "<style scoped>\n",
       "    .dataframe tbody tr th:only-of-type {\n",
       "        vertical-align: middle;\n",
       "    }\n",
       "\n",
       "    .dataframe tbody tr th {\n",
       "        vertical-align: top;\n",
       "    }\n",
       "\n",
       "    .dataframe thead th {\n",
       "        text-align: right;\n",
       "    }\n",
       "</style>\n",
       "<table border=\"1\" class=\"dataframe\">\n",
       "  <thead>\n",
       "    <tr style=\"text-align: right;\">\n",
       "      <th></th>\n",
       "      <th>AreaID</th>\n",
       "      <th>ReportingDistrict</th>\n",
       "      <th>CrimeCode</th>\n",
       "      <th>VictimAge</th>\n",
       "      <th>PremiseCode</th>\n",
       "    </tr>\n",
       "  </thead>\n",
       "  <tbody>\n",
       "    <tr>\n",
       "      <th>36</th>\n",
       "      <td>7</td>\n",
       "      <td>736</td>\n",
       "      <td>510</td>\n",
       "      <td>16.0</td>\n",
       "      <td>123.0</td>\n",
       "    </tr>\n",
       "    <tr>\n",
       "      <th>136</th>\n",
       "      <td>1</td>\n",
       "      <td>119</td>\n",
       "      <td>480</td>\n",
       "      <td>26.0</td>\n",
       "      <td>123.0</td>\n",
       "    </tr>\n",
       "    <tr>\n",
       "      <th>149</th>\n",
       "      <td>1</td>\n",
       "      <td>138</td>\n",
       "      <td>420</td>\n",
       "      <td>45.0</td>\n",
       "      <td>123.0</td>\n",
       "    </tr>\n",
       "    <tr>\n",
       "      <th>274</th>\n",
       "      <td>1</td>\n",
       "      <td>152</td>\n",
       "      <td>740</td>\n",
       "      <td>71.0</td>\n",
       "      <td>123.0</td>\n",
       "    </tr>\n",
       "    <tr>\n",
       "      <th>411</th>\n",
       "      <td>1</td>\n",
       "      <td>182</td>\n",
       "      <td>330</td>\n",
       "      <td>79.0</td>\n",
       "      <td>123.0</td>\n",
       "    </tr>\n",
       "  </tbody>\n",
       "</table>\n",
       "</div>"
      ],
      "text/plain": [
       "     AreaID  ReportingDistrict  CrimeCode  VictimAge  PremiseCode\n",
       "36        7                736        510       16.0        123.0\n",
       "136       1                119        480       26.0        123.0\n",
       "149       1                138        420       45.0        123.0\n",
       "274       1                152        740       71.0        123.0\n",
       "411       1                182        330       79.0        123.0"
      ]
     },
     "execution_count": 211,
     "metadata": {},
     "output_type": "execute_result"
    }
   ],
   "source": [
    "# model_small_df = crime_df.loc[crime_df['CrimeCode'].isin(['646'])]\n",
    "# 440 - 0.628928407174613\n",
    "#3     26280\n",
    "#6     20940\n",
    "#7     18542\n",
    "#2     18192\n",
    "#9     17306\n",
    "#5     16300\n",
    "#4     15293\n",
    "#8     15290\n",
    "#13      816\n",
    "model_small_df = crime_df.loc[crime_df['PremiseCode'].isin(['123'])]\n",
    "model_small_df.head()"
   ]
  },
  {
   "cell_type": "code",
   "execution_count": 212,
   "metadata": {},
   "outputs": [
    {
     "data": {
      "text/plain": [
       "AreaID               2574\n",
       "ReportingDistrict    2574\n",
       "CrimeCode            2574\n",
       "VictimAge            2574\n",
       "PremiseCode          2574\n",
       "dtype: int64"
      ]
     },
     "execution_count": 212,
     "metadata": {},
     "output_type": "execute_result"
    }
   ],
   "source": [
    "model_small_df.count()"
   ]
  },
  {
   "cell_type": "code",
   "execution_count": 213,
   "metadata": {},
   "outputs": [
    {
     "name": "stdout",
     "output_type": "stream",
     "text": [
      "(2574, 4) (2574,)\n"
     ]
    }
   ],
   "source": [
    "X = model_small_df.drop(\"CrimeCode\", axis=1)\n",
    "y = model_small_df[\"CrimeCode\"]\n",
    "feature_names = model_small_df.columns\n",
    "print(X.shape, y.shape)"
   ]
  },
  {
   "cell_type": "code",
   "execution_count": 214,
   "metadata": {},
   "outputs": [
    {
     "data": {
      "text/plain": [
       "0.8574203574203574"
      ]
     },
     "execution_count": 214,
     "metadata": {},
     "output_type": "execute_result"
    }
   ],
   "source": [
    "clf = tree.DecisionTreeClassifier()\n",
    "clf = clf.fit(X, y)\n",
    "clf.score(X, y)"
   ]
  },
  {
   "cell_type": "code",
   "execution_count": 215,
   "metadata": {},
   "outputs": [
    {
     "data": {
      "text/plain": [
       "0.8523698523698524"
      ]
     },
     "execution_count": 215,
     "metadata": {},
     "output_type": "execute_result"
    }
   ],
   "source": [
    "from sklearn.ensemble import RandomForestClassifier\n",
    "rf = RandomForestClassifier(n_estimators=20)\n",
    "rf = rf.fit(X, y)\n",
    "rf.score(X, y)"
   ]
  },
  {
   "cell_type": "code",
   "execution_count": null,
   "metadata": {},
   "outputs": [],
   "source": []
  }
 ],
 "metadata": {
  "kernelspec": {
   "display_name": "Python [default]",
   "language": "python",
   "name": "python3"
  },
  "language_info": {
   "codemirror_mode": {
    "name": "ipython",
    "version": 3
   },
   "file_extension": ".py",
   "mimetype": "text/x-python",
   "name": "python",
   "nbconvert_exporter": "python",
   "pygments_lexer": "ipython3",
   "version": "3.5.6"
  }
 },
 "nbformat": 4,
 "nbformat_minor": 2
}
